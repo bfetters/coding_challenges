{
 "cells": [
  {
   "cell_type": "markdown",
   "metadata": {},
   "source": [
    "# The \"Anonymous Love Letter\" Problem\n",
    "\n",
    "You have written an anonymous love letter and you don't want your handwriting to be recognized.\n",
    "Since you don't have a printer within reach, you are trying to write this letter by copying and pasting characters from a newspaper.\n",
    "\n",
    "Given a string L representing the letter and a string N representing the newspaper, return true if the L can be written entirely from N and false otherwise.\n",
    "The letter includes only ascii characters."
   ]
  },
  {
   "cell_type": "code",
   "execution_count": 2,
   "metadata": {
    "collapsed": true
   },
   "outputs": [],
   "source": [
    "L = \"\"\"The \"Anonymous Love Letter\" Problem\n",
    "You have written an anonymous love letter and you don't want your \n",
    "handwriting to be recognized. Since you don't have a printer within reach, \n",
    "you are trying to write this letter by copying and pasting characters from a newspaper.\n",
    "Given a string L representing the letter and a string N representing the newspaper, \n",
    "return true if the L can be written entirely from N and false otherwise. \n",
    "The letter includes only ascii characters.\"\"\"\n",
    "\n",
    "N = \"\"\"abcdefghijklmnopqrstuvwxyz \",.'\\n\"\"\""
   ]
  },
  {
   "cell_type": "code",
   "execution_count": 3,
   "metadata": {
    "collapsed": false
   },
   "outputs": [
    {
     "data": {
      "text/plain": [
       "True"
      ]
     },
     "execution_count": 3,
     "metadata": {},
     "output_type": "execute_result"
    }
   ],
   "source": [
    "def pramp(L, N):\n",
    "    for l in set(L.lower()):\n",
    "        if l not in set(N.lower()):\n",
    "            return False\n",
    "    return True\n",
    "\n",
    "pramp(L, N)"
   ]
  },
  {
   "cell_type": "markdown",
   "metadata": {},
   "source": [
    "### Tips\n",
    "\n",
    "- If your peer is stuck, ask how would you know if you can write ```L``` by using the letters in ```N``` only. Try to get them emulate the naive algorithm to this supply & demand problem and then to formalize it.\n",
    "\n",
    "- If you peer uses a hash table, make sure they understand what hashing means and what it involves. Then ask what can be a little more efficient. If it doesn't ring a bell, ask what else do we know about there characters that would help us to use something similar to hashing, only more basic and therefore efficient.\n",
    "\n",
    "- Checking if 256 character counts are ```0``` after each and every character scanned in ```N``` is not a good practice, if your peer does that try to give hints towards a simple like ```charCount``` instead.\n",
    "\n",
    "- Sorting and searching are an overkill and should be avoided when the linear solution is that simple.\n",
    "\n",
    "- Any solution that takes more than linear O(n+m) runtime is not acceptable as complete."
   ]
  },
  {
   "cell_type": "markdown",
   "metadata": {},
   "source": [
    "### Solution"
   ]
  },
  {
   "cell_type": "markdown",
   "metadata": {},
   "source": [
    "Solution\n",
    "\n",
    "L can be written by characters from N, if and only if every character in L is included in N at least by the same number of occurrences. To determine that, we should count the number of occurrences for each character in L and determine if we have all of them, at least at the same quantity in N.\n",
    "A good approach to do this is using a hash table. The hash key with be the character, and the hash value would be the number occurrences counter so far.\n",
    "\n",
    "Since all characters are ascii we can avoid the hash table and use a simple array of 256 integers that we call charMap. Every index in charMap will hold the number of occurrences of the character represented by its ascii code. Since N is most likely much longer than L, we start with counting the number of character occurrences in it first. This way we can save some computations time on the best case: we'll be able to stop processing N once we find all of L's characters in it and avoid going over the rest of it.\n",
    "\n",
    "After counting all characters in L, we scan N and for each character, reduce its count on charMap if it is larger than 0. If all counts in charMap are zero at some point, we return true. Otherwise, if we are done scanning N and at least one count is not 0, we return false. \n",
    "\n",
    "Pseudocode:\n",
    "\n",
    "```python\n",
    "def isLoveLetterReproducible(L, M):\n",
    "   charMap = int array of size\n",
    "   charCount = 0\n",
    "\n",
    "   for i from 0 to L.length:\n",
    "      charCode = int(L.charAt(i)) \n",
    "      if (charMap[charCode] == 0):\n",
    "         charCount++\n",
    "      charMap[charCode]++\n",
    "\n",
    "   for i from 0 to N.length:\n",
    "      charCode = int(L.charAt(i))\n",
    "      if (charMap[charCode] > 0):\n",
    "         charMap[charCode]--\n",
    "         if (charMap[charCode] == 0):\n",
    "            charCount--\n",
    "      if (charCount == 0):\n",
    "         return true\n",
    "\n",
    "   return false\n",
    "```\n",
    "\n",
    "Runtime Complexity: In the worst case we scan all of L and N linearly. For each character on the we do constant number of operations. Therefore, if m and n are the lengths of L and N, the runtime complexity is linear O(n+m).\n",
    "\n",
    "Space Complexity: Using the variable charCode is only to make the pseudocode above clearer and can be avoided (by using the value directly). Other than that, since we use an array of constant size (256) and a constant number of variable, the space complexity is O(1)."
   ]
  },
  {
   "cell_type": "code",
   "execution_count": null,
   "metadata": {
    "collapsed": true
   },
   "outputs": [],
   "source": []
  }
 ],
 "metadata": {
  "kernelspec": {
   "display_name": "Python 2",
   "language": "python",
   "name": "python2"
  },
  "language_info": {
   "codemirror_mode": {
    "name": "ipython",
    "version": 2
   },
   "file_extension": ".py",
   "mimetype": "text/x-python",
   "name": "python",
   "nbconvert_exporter": "python",
   "pygments_lexer": "ipython2",
   "version": "2.7.10"
  }
 },
 "nbformat": 4,
 "nbformat_minor": 0
}
