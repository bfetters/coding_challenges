{
 "cells": [
  {
   "cell_type": "markdown",
   "metadata": {},
   "source": [
    "You are given an array of  distinct integers, , and a positive integer, . Find and print the number of  pairs where  and  +  is evenly divisible by .\n",
    "\n",
    "##### Input Format\n",
    "\n",
    "The first line contains  space-separated integers,  and , respectively. \n",
    "The second line contains  space-separated integers describing the respective values of .\n",
    "\n",
    "##### Constraints\n",
    "\n",
    "##### Output Format\n",
    "\n",
    "Print the number of  pairs where `i < j` and `a_i + a_j` is evenly divisible by `k`.\n",
    "\n",
    "##### Sample Input\n",
    "```\n",
    "6 3\n",
    "1 3 2 6 1 2\n",
    "```\n",
    "\n",
    "##### Sample Output\n",
    "```\n",
    "5\n",
    "```\n",
    "\n",
    "##### Explanation\n",
    "\n",
    "Here are the  valid pairs:\n",
    "- 0,2\n",
    "- 0,5\n",
    "- 1,3\n",
    "- 2,4\n",
    "- 4,5\n"
   ]
  },
  {
   "cell_type": "code",
   "execution_count": 1,
   "metadata": {
    "collapsed": false
   },
   "outputs": [
    {
     "name": "stdout",
     "output_type": "stream",
     "text": [
      "6 3\n",
      "1 3 2 6 1 2\n"
     ]
    }
   ],
   "source": [
    "#!/bin/python\n",
    "\n",
    "import sys\n",
    "\n",
    "n,k = raw_input().strip().split(' ')\n",
    "n,k = [int(n),int(k)]\n",
    "a = map(int,raw_input().strip().split(' '))"
   ]
  },
  {
   "cell_type": "code",
   "execution_count": 96,
   "metadata": {
    "collapsed": false
   },
   "outputs": [
    {
     "name": "stdout",
     "output_type": "stream",
     "text": [
      "6 3\n",
      "1 3 2 6 1 2\n",
      "5\n"
     ]
    }
   ],
   "source": [
    "#!/bin/python\n",
    "\n",
    "import sys\n",
    "from __future__ import division\n",
    "\n",
    "n, k = map(int, raw_input().split())\n",
    "a = map(int, raw_input().split())\n",
    "\n",
    "pairs = 0\n",
    "for i, a_i in enumerate(a):\n",
    "    for j, a_j in enumerate(a):\n",
    "        if (i < j) and ((a_i + a_j) / k) % 1 == 0:\n",
    "#             print i, j, a_i, a_j, (a_i + a_j) / k % 1 == 0\n",
    "            pairs += 1\n",
    "    \n",
    "print pairs"
   ]
  },
  {
   "cell_type": "markdown",
   "metadata": {},
   "source": [
    "### Non-Divisible Subsets"
   ]
  },
  {
   "cell_type": "code",
   "execution_count": null,
   "metadata": {
    "collapsed": true
   },
   "outputs": [],
   "source": [
    "4 3\n",
    "1 7 2 4"
   ]
  },
  {
   "cell_type": "code",
   "execution_count": 122,
   "metadata": {
    "collapsed": false
   },
   "outputs": [
    {
     "name": "stdout",
     "output_type": "stream",
     "text": [
      "4 3\n",
      "1 7 2 4\n"
     ]
    }
   ],
   "source": [
    "n, k = map(int, raw_input().split())\n",
    "s = map(int, raw_input().split())"
   ]
  },
  {
   "cell_type": "code",
   "execution_count": 119,
   "metadata": {
    "collapsed": true
   },
   "outputs": [],
   "source": [
    "n, k = 5, 3\n",
    "s = [1,2,3,4,5,6,7]"
   ]
  },
  {
   "cell_type": "code",
   "execution_count": 123,
   "metadata": {
    "collapsed": false
   },
   "outputs": [],
   "source": [
    "# subset = s\n",
    "# for i, vi in enumerate(s):\n",
    "#     for j, vj in enumerate(s[i:]):        \n",
    "#         if vi <> vj and (vi + vj) / k % 1 <> 0:\n",
    "# #             print vi, vj, (vi + vj) / k, (vi + vj) / k % 1 <> 0\n",
    "#             subset += 1\n",
    "        \n",
    "# print subset"
   ]
  },
  {
   "cell_type": "code",
   "execution_count": 126,
   "metadata": {
    "collapsed": false
   },
   "outputs": [
    {
     "name": "stdout",
     "output_type": "stream",
     "text": [
      "[7, 4]\n"
     ]
    }
   ],
   "source": [
    "subset = s\n",
    "\n",
    "for i, s_i in enumerate(s[:n+1]):\n",
    "    for j, s_j in enumerate(s[j:n+1]):\n",
    "        if (s_i + s_j) / k % 1 == 0:\n",
    "            subset.remove(s_i)\n",
    "            subset.remove(s_j)\n",
    "print subset"
   ]
  },
  {
   "cell_type": "code",
   "execution_count": 1,
   "metadata": {
    "collapsed": false
   },
   "outputs": [
    {
     "data": {
      "text/plain": [
       "68.0"
      ]
     },
     "execution_count": 1,
     "metadata": {},
     "output_type": "execute_result"
    }
   ],
   "source": [
    "80*.8 + 20*.2"
   ]
  },
  {
   "cell_type": "code",
   "execution_count": 27,
   "metadata": {
    "collapsed": false
   },
   "outputs": [
    {
     "name": "stdout",
     "output_type": "stream",
     "text": [
      "{0: {'interests': ['Hadoop', 'Big Data', 'Spark'], 'name': 'Hero'}, 1: {'interests': ['Python', 'MongoDB', 'scikit-learn'], 'name': 'Dunn'}, 2: {'interests': ['numpy', 'R', 'Python', 'pandas'], 'name': 'Sue'}, 3: {'interests': ['statistics', 'probability', 'regression'], 'name': 'Chi'}, 4: {'interests': ['machine learning', 'regression', 'decision trees'], 'name': 'Thor'}, 5: {'interests': ['R', 'Python', 'statistics'], 'name': 'Clive'}, 6: {'interests': ['probability', 'mathematics', 'machine learning'], 'name': 'Hicks'}, 7: {'interests': ['machine learning', 'scikit-learn', 'neural networks'], 'name': 'Devin'}, 8: {'interests': ['Big Data', 'artificial intelligence', 'hadoop'], 'name': 'Kate'}, 9: {'interests': ['Java', 'MapReduce', 'Big Data'], 'name': 'Klein'}}\n"
     ]
    }
   ],
   "source": [
    "# Create a dictionary with the users as keys and the values as a list of the interests.\n",
    "\n",
    "# Toy dataset 1\n",
    "users = [{\"id\":0, \"name\":\"Hero\"},\n",
    "         {\"id\":1, \"name\":\"Dunn\"},\n",
    "         {\"id\":2, \"name\":\"Sue\"},\n",
    "         {\"id\":3, \"name\":\"Chi\"},\n",
    "         {\"id\":4, \"name\":\"Thor\"},\n",
    "         {\"id\":5, \"name\":\"Clive\"},\n",
    "         {\"id\":6, \"name\":\"Hicks\"},\n",
    "         {\"id\":7, \"name\":\"Devin\"},\n",
    "         {\"id\":8, \"name\":\"Kate\"},\n",
    "         {\"id\":9, \"name\":\"Klein\"}]\n",
    "\n",
    "# Toy dataset 2\n",
    "interests = [(0, \"Hadoop\"), (0, \"Big Data\"), (0, \"Spark\"),\n",
    "            (1, \"Python\"), (1, \"MongoDB\"), (1, \"scikit-learn\"),\n",
    "            (2, \"numpy\"), (2, \"R\"), (2, \"Python\"), (2, \"pandas\"),\n",
    "            (3, \"statistics\"), (3, \"probability\"), (3, \"regression\"),\n",
    "            (4, \"machine learning\"), (4, \"regression\"), (4, \"decision trees\"),\n",
    "            (5, \"R\"), (5, \"Python\"), (5, \"statistics\"),\n",
    "            (6, \"probability\"), (6, \"mathematics\"), (6, \"machine learning\"),\n",
    "            (7, \"machine learning\"), (7, \"scikit-learn\"), (7, \"neural networks\"),\n",
    "            (8, \"Big Data\"), (8, \"artificial intelligence\"), (8, \"hadoop\"),\n",
    "            (9, \"Java\"), (9, \"MapReduce\"), (9, \"Big Data\")]\n",
    "\n",
    "user_interests = {}\n",
    "for user in users:\n",
    "    user_interests[user['id']] = {'name': user['name'],\n",
    "                                  'interests': [interest for userid, interest in interests \n",
    "                                                if userid == user['id']]}\n",
    "print user_interests"
   ]
  },
  {
   "cell_type": "code",
   "execution_count": null,
   "metadata": {
    "collapsed": true
   },
   "outputs": [],
   "source": []
  }
 ],
 "metadata": {
  "kernelspec": {
   "display_name": "Python 2",
   "language": "python",
   "name": "python2"
  },
  "language_info": {
   "codemirror_mode": {
    "name": "ipython",
    "version": 2
   },
   "file_extension": ".py",
   "mimetype": "text/x-python",
   "name": "python",
   "nbconvert_exporter": "python",
   "pygments_lexer": "ipython2",
   "version": "2.7.10"
  }
 },
 "nbformat": 4,
 "nbformat_minor": 0
}
