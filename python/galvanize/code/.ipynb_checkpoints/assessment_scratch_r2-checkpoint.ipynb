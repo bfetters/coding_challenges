{
 "cells": [
  {
   "cell_type": "code",
   "execution_count": 25,
   "metadata": {
    "collapsed": true
   },
   "outputs": [],
   "source": [
    "## Fill each each function stub according to the docstring.\n",
    "## Run the tests with this command: \"make test\"\n",
    "\n",
    "import numpy as np\n",
    "import pandas as pd\n",
    "import requests\n",
    "from collections import Counter,defaultdict\n",
    "from itertools import izip, count\n",
    "import requests\n",
    "import json"
   ]
  },
  {
   "cell_type": "code",
   "execution_count": 30,
   "metadata": {
    "collapsed": true
   },
   "outputs": [],
   "source": [
    "### Python\n",
    "def count_characters(string):\n",
    "    '''\n",
    "    INPUT: STRING\n",
    "    OUTPUT: DICT (STRING => INT)\n",
    "\n",
    "    Return a dictionary which contains a count of the number of times each\n",
    "    character appears in the string.\n",
    "    Characters which would have a count of 0 should not need to be included in\n",
    "    your dictionary.\n",
    "    '''\n",
    "    count = Counter(string)\n",
    "    return count"
   ]
  },
  {
   "cell_type": "code",
   "execution_count": 31,
   "metadata": {
    "collapsed": false
   },
   "outputs": [
    {
     "data": {
      "text/plain": [
       "Counter({' ': 4, 's': 4, 'i': 3, 't': 3, 'a': 1, 'e': 1, 'g': 1, 'h': 1, 'n': 1, 'r': 1, 'T': 1})"
      ]
     },
     "execution_count": 31,
     "metadata": {},
     "output_type": "execute_result"
    }
   ],
   "source": [
    "count_characters('This is a test string')"
   ]
  },
  {
   "cell_type": "code",
   "execution_count": 47,
   "metadata": {
    "collapsed": true
   },
   "outputs": [],
   "source": [
    "def invert_dictionary(d):\n",
    "    '''\n",
    "    INPUT: DICT (STRING => INT)\n",
    "    OUTPUT: DICT (INT => SET OF STRINGS)\n",
    "\n",
    "    Given a dictionary d, return a new dictionary with d's values as keys and\n",
    "    the value for a given key being the set of d's keys which have the same\n",
    "    value.\n",
    "    e.g. {'a': 2, 'b': 4, 'c': 2} => {2: {'a', 'c'}, 4: {'b'}}\n",
    "    '''\n",
    "\n",
    "    dInv = defaultdict(set)\n",
    "    for k,v in d.iteritems():\n",
    "        dInv[v].update(set(k))\n",
    "        \n",
    "    return dInv"
   ]
  },
  {
   "cell_type": "code",
   "execution_count": 48,
   "metadata": {
    "collapsed": false
   },
   "outputs": [
    {
     "data": {
      "text/plain": [
       "defaultdict(<type 'set'>, {2: set(['a', 'c']), 4: set(['b'])})"
      ]
     },
     "execution_count": 48,
     "metadata": {},
     "output_type": "execute_result"
    }
   ],
   "source": [
    "invert_dictionary({'a': 2, 'b': 4, 'c': 2})"
   ]
  },
  {
   "cell_type": "code",
   "execution_count": 57,
   "metadata": {
    "collapsed": true
   },
   "outputs": [],
   "source": [
    "def word_count(filename):\n",
    "    '''\n",
    "    INPUT: STRING\n",
    "    OUTPUT: (INT, INT, INT)\n",
    "\n",
    "    filename refers to a text file.\n",
    "    Return a tuple containing these stats for the file in this order:\n",
    "      1. number of lines\n",
    "      2. number of words (broken by whitespace)\n",
    "      3. number of characters\n",
    "    '''\n",
    "    lines = 0\n",
    "    words = 0\n",
    "    letters = 0\n",
    "    with open(filename) as fh:\n",
    "        keep_lines = fh.readlines()\n",
    "        \n",
    "    for line in keep_lines:\n",
    "        lines += 1\n",
    "        for word in line.split(' '):\n",
    "            words += 1\n",
    "            \n",
    "        for letter in line:\n",
    "            letters += 1\n",
    "        \n",
    "    return (lines, words, letters)"
   ]
  },
  {
   "cell_type": "code",
   "execution_count": 59,
   "metadata": {
    "collapsed": false
   },
   "outputs": [],
   "source": [
    "# word_count('/Users/bfetters/projects/gU/DSCI6002/w2/6002-assessment-1_PRACTICE/data/alice.txt')"
   ]
  },
  {
   "cell_type": "code",
   "execution_count": 200,
   "metadata": {
    "collapsed": false
   },
   "outputs": [],
   "source": [
    "def matrix_multiplication(A, B):\n",
    "    '''\n",
    "    INPUT: LIST OF LIST OF INTEGERS, LIST OF LIST OF INTEGERS\n",
    "    OUTPUT: LIST OF LIST of INTEGERS\n",
    "\n",
    "    A and B are matrices with integer values, encoded as lists of lists:\n",
    "    e.g. A = [[2, 3, 4], [6, 4, 2], [-1, 2, 0]] corresponds to the matrix:\n",
    "    | 2  3  4 | | 2  3  4 |\n",
    "    | 6  4  2 | | 6  4  2 |\n",
    "    |-1  2  0 | |-1  2  0 |\n",
    "    Return the matrix which is the product of matrix A and matrix B.\n",
    "    You may assume that A and B are square matrices of the same size.\n",
    "    \n",
    "    You may not use numpy. Write your solution in straight python.\n",
    "    '''\n",
    "#     for i in xrange(len(A)):\n",
    "#         row = 0\n",
    "#         for j in xrange(len(A)):\n",
    "#             print j,i,row,A[i][j],B[j][i]\n",
    "#             row += A[i][j]*B[j][i]\n",
    "#         print row\n",
    "#         result.append(row)\n",
    "\n",
    "    result = [[0, 0, 0], [0, 0, 0], [0, 0, 0]]\n",
    "    # iterate through rows of A\n",
    "    for i in range(len(A)):\n",
    "        # iterate through columns of B\n",
    "        for j in range(len(B[0])):\n",
    "            # iterate through rows of B\n",
    "            for k in range(len(B)):\n",
    "                result[i][j] += A[i][k] * B[k][j]\n",
    "                \n",
    "    return result"
   ]
  },
  {
   "cell_type": "code",
   "execution_count": 201,
   "metadata": {
    "collapsed": false
   },
   "outputs": [
    {
     "data": {
      "text/plain": [
       "[[18, 26, 14], [34, 38, 32], [10, 5, 0]]"
      ]
     },
     "execution_count": 201,
     "metadata": {},
     "output_type": "execute_result"
    }
   ],
   "source": [
    "matrix_multiplication(A,B)"
   ]
  },
  {
   "cell_type": "code",
   "execution_count": 203,
   "metadata": {
    "collapsed": true
   },
   "outputs": [],
   "source": [
    "def max_lists(list1, list2):\n",
    "    '''\n",
    "    INPUT: list, list\n",
    "    OUTPUT: list\n",
    "\n",
    "    list1 and list2 have the same length. Return a list which contains the\n",
    "    maximum element of each list for every index.\n",
    "    '''\n",
    "    max_list = []\n",
    "    for i in zip(list1, list2):\n",
    "        max_list.append(max(i[0],i[1]))\n",
    "    return max_list"
   ]
  },
  {
   "cell_type": "code",
   "execution_count": 204,
   "metadata": {
    "collapsed": false
   },
   "outputs": [
    {
     "data": {
      "text/plain": [
       "[7, 5, 3]"
      ]
     },
     "execution_count": 204,
     "metadata": {},
     "output_type": "execute_result"
    }
   ],
   "source": [
    "max_lists([1,5,3],[7,1,2])"
   ]
  },
  {
   "cell_type": "code",
   "execution_count": 221,
   "metadata": {
    "collapsed": true
   },
   "outputs": [],
   "source": [
    "def get_diagonal(mat):\n",
    "    '''\n",
    "    INPUT: 2 dimensional list\n",
    "    OUTPUT: list\n",
    "\n",
    "    Given a matrix encoded as a 2 dimensional python list, return a list\n",
    "    containing all the values in the diagonal starting at the index 0, 0.\n",
    "\n",
    "    E.g.\n",
    "    mat = [[1, 2], [3, 4], [5, 6]]\n",
    "    | 1  2 |\n",
    "    | 3  4 |\n",
    "    | 5  6 |\n",
    "    get_diagonal(mat) => [1, 4]\n",
    "\n",
    "    You may assume that the matrix is nonempty.\n",
    "    '''\n",
    "    diagonal = []\n",
    "    for i in xrange(len(mat)):\n",
    "        print i\n",
    "        diagonal.append(mat[i][i])\n",
    "    return diagonal"
   ]
  },
  {
   "cell_type": "code",
   "execution_count": 222,
   "metadata": {
    "collapsed": false
   },
   "outputs": [
    {
     "name": "stdout",
     "output_type": "stream",
     "text": [
      "0\n",
      "1\n",
      "2\n"
     ]
    },
    {
     "data": {
      "text/plain": [
       "[1, 4, 3]"
      ]
     },
     "execution_count": 222,
     "metadata": {},
     "output_type": "execute_result"
    }
   ],
   "source": [
    "mat = [[1, 2, 3], [3, 4, 1], [5, 6, 3]]\n",
    "get_diagonal(mat)"
   ]
  },
  {
   "cell_type": "code",
   "execution_count": 223,
   "metadata": {
    "collapsed": true
   },
   "outputs": [],
   "source": [
    "def merge_dictionaries(d1, d2):\n",
    "    '''\n",
    "    INPUT: dictionary, dictionary\n",
    "    OUTPUT: dictionary\n",
    "\n",
    "    Return a new dictionary which contains all the keys from d1 and d2 with\n",
    "    their associated values. If a key is in both dictionaries, the value should\n",
    "    be the sum of the two values.\n",
    "    '''\n",
    "    keys = set(d1.keys()) | set(d2.keys())\n",
    "    return dict((key, d1.get(key, 0) + d2.get(key, 0)) for key in keys)"
   ]
  },
  {
   "cell_type": "code",
   "execution_count": 224,
   "metadata": {
    "collapsed": false
   },
   "outputs": [
    {
     "data": {
      "text/plain": [
       "{'a': 1, 'b': 2, 'c': 7, 'd': 5, 'e': 6}"
      ]
     },
     "execution_count": 224,
     "metadata": {},
     "output_type": "execute_result"
    }
   ],
   "source": [
    "d1 = {'a': 1, 'b': 2, 'c': 3}\n",
    "d2 = {'c': 4, 'd': 5, 'e': 6}\n",
    "merge_dictionaries(d1,d2)"
   ]
  },
  {
   "cell_type": "code",
   "execution_count": 255,
   "metadata": {
    "collapsed": false
   },
   "outputs": [],
   "source": [
    "def make_char_dict(filename):\n",
    "    '''\n",
    "    INPUT: string\n",
    "    OUTPUT: dictionary (string => list)\n",
    "\n",
    "    Given a file containing strings, you would like to create a dictionary with keys\n",
    "    of single characters. The value is a list of all the line numbers which\n",
    "    start with that letter. The first line should have line number 1.\n",
    "    Characters which never are the first letter of a line do not need to be\n",
    "    included in your dictionary.\n",
    "    '''\n",
    "    with open(filename) as fh:\n",
    "        keep_lines = fh.readlines()\n",
    "     \n",
    "    my_dict = {}\n",
    "    for i,line in enumerate(keep_lines):\n",
    "        if line[0] in my_dict:\n",
    "            my_dict[line[0]].append(i + 1)\n",
    "        else:\n",
    "            my_dict[line[0]] = [i + 1]\n",
    "    return my_dict"
   ]
  },
  {
   "cell_type": "code",
   "execution_count": 256,
   "metadata": {
    "collapsed": false
   },
   "outputs": [
    {
     "data": {
      "text/plain": [
       "{\"'\": [7],\n",
       " 'A': [1, 11, 14],\n",
       " 'D': [8, 10],\n",
       " 'E': [6],\n",
       " 'H': [17],\n",
       " 'I': [4, 16],\n",
       " 'P': [9],\n",
       " 'S': [2, 13],\n",
       " 'T': [3, 5, 12, 15]}"
      ]
     },
     "execution_count": 256,
     "metadata": {},
     "output_type": "execute_result"
    }
   ],
   "source": [
    "make_char_dict('/Users/bfetters/projects/gU/DSCI6002/w2/6002-assessment-1_PRACTICE/data/alice.txt')"
   ]
  },
  {
   "cell_type": "code",
   "execution_count": 257,
   "metadata": {
    "collapsed": true
   },
   "outputs": [],
   "source": [
    "### NumPy\n",
    "\n",
    "def array_work(rows, cols, scalar, matrixA):\n",
    "    '''\n",
    "    INPUT: INT, INT, INT, NUMPY ARRAY\n",
    "    OUTPUT: NUMPY ARRAY\n",
    "\n",
    "    Create matrix of size (rows, cols) with the elements initialized to the\n",
    "    scalar value. Right multiply that matrix with the passed matrixA (i.e. AB,\n",
    "    not BA). \n",
    "    Return the result of the multiplication.\n",
    "    You should be able to accomplish this in a single line.\n",
    "\n",
    "    Ex: array_work(2, 3, 5, [[3, 4], [5, 6], [7, 8]])\n",
    "           [[3, 4],      [[5, 5, 5],\n",
    "            [5, 6],   *   [5, 5, 5]]\n",
    "            [7, 8]]\n",
    "    '''\n",
    "    B = np.linspace(scalar,scalar, rows*cols).reshape(rows,cols)\n",
    "    return np.dot(matrixA,B)"
   ]
  },
  {
   "cell_type": "code",
   "execution_count": 258,
   "metadata": {
    "collapsed": false
   },
   "outputs": [
    {
     "data": {
      "text/plain": [
       "array([[ 35.,  35.,  35.],\n",
       "       [ 55.,  55.,  55.],\n",
       "       [ 75.,  75.,  75.]])"
      ]
     },
     "execution_count": 258,
     "metadata": {},
     "output_type": "execute_result"
    }
   ],
   "source": [
    "array_work(2, 3, 5, [[3, 4], [5, 6], [7, 8]])"
   ]
  },
  {
   "cell_type": "code",
   "execution_count": 301,
   "metadata": {
    "collapsed": false
   },
   "outputs": [],
   "source": [
    "def boolean_indexing(arr, minimum):\n",
    "    '''\n",
    "    INPUT: NUMPY ARRAY, INT\n",
    "    OUTPUT: NUMPY ARRAY\n",
    "\n",
    "    Returns an array with all the elements of \"arr\" greater than\n",
    "    or equal to \"minimum\"\n",
    "\n",
    "    Ex:\n",
    "    In [1]: boolean_indexing([[3, 4, 5], [6, 7, 8]], 7)\n",
    "    Out[1]: array([7, 8])\n",
    "    '''\n",
    "    result = []\n",
    "    for row in xrange(len(arr)):\n",
    "        for column in xrange(len(arr[0])):\n",
    "            if arr[row][column] >= minimum:\n",
    "                result.append(arr[row][column])\n",
    "    return result"
   ]
  },
  {
   "cell_type": "code",
   "execution_count": 302,
   "metadata": {
    "collapsed": false
   },
   "outputs": [
    {
     "data": {
      "text/plain": [
       "[7, 8]"
      ]
     },
     "execution_count": 302,
     "metadata": {},
     "output_type": "execute_result"
    }
   ],
   "source": [
    "boolean_indexing([[3, 4, 5], [6, 7, 8]], 7)"
   ]
  },
  {
   "cell_type": "code",
   "execution_count": 315,
   "metadata": {
    "collapsed": true
   },
   "outputs": [],
   "source": [
    "### Pandas\n",
    "\n",
    "def make_series(start, length, index):\n",
    "    '''\n",
    "    INPUT: INT, INT, LIST\n",
    "    OUTPUT: PANDAS SERIES\n",
    "\n",
    "    Create a pandas Series of length \"length\"; its elements should be\n",
    "    sequential integers starting from \"start\". \n",
    "    The series' index should be \"index\". \n",
    "\n",
    "    Ex: \n",
    "    In [1]: make_series(5, 3, ['a', 'b', 'c'])\n",
    "    Out[1]: \n",
    "    a    5\n",
    "    b    6\n",
    "    c    7\n",
    "    dtype: int64\n",
    "    '''\n",
    "    lst = []\n",
    "    for l in xrange(start,start+length):\n",
    "        lst.append(l)\n",
    "     \n",
    "    ser = pd.Series(data=lst,index=index)\n",
    "    return ser"
   ]
  },
  {
   "cell_type": "code",
   "execution_count": 316,
   "metadata": {
    "collapsed": false
   },
   "outputs": [
    {
     "data": {
      "text/plain": [
       "a    5\n",
       "b    6\n",
       "c    7\n",
       "dtype: int64"
      ]
     },
     "execution_count": 316,
     "metadata": {},
     "output_type": "execute_result"
    }
   ],
   "source": [
    "make_series(5, 3, ['a', 'b', 'c'])"
   ]
  },
  {
   "cell_type": "code",
   "execution_count": 317,
   "metadata": {
    "collapsed": true
   },
   "outputs": [],
   "source": [
    "def data_frame_work(df, colA, colB, colC):\n",
    "    '''\n",
    "    INPUT: DATAFRAME, STR, STR, STR\n",
    "    OUTPUT: None\n",
    "    \n",
    "    Insert a column (colC) into the dataframe that is the sum of colA and colB.\n",
    "    '''\n",
    "    df[colC] = df[colA] + df[colB]"
   ]
  },
  {
   "cell_type": "code",
   "execution_count": null,
   "metadata": {
    "collapsed": true
   },
   "outputs": [],
   "source": [
    "# For each of these, you will be dealing with a DataFrame which contains median\n",
    "# rental prices in the US by neighborhood. The DataFrame will have these\n",
    "# columns:\n",
    "# Neighborhood, City, State, med_2011, med_2014\n",
    "\n",
    "def pandas_add_increase_column(df):\n",
    "    '''\n",
    "    INPUT: DataFrame\n",
    "    OUTPUT: None\n",
    "\n",
    "    Add a column to the DataFrame called 'Increase' which contains the \n",
    "    amount that the median rent increased by from 2011 to 2014.\n",
    "    '''\n",
    "    df['Increase'] = df.med_2014 - df.med_2011\n",
    "\n",
    "def pandas_only_given_state(df, state):\n",
    "    '''\n",
    "    INPUT: DataFrame, string, string\n",
    "    OUTPUT: DataFrame\n",
    "\n",
    "    Return a new pandas DataFrame which contains the entries for the given\n",
    "    state. Only include these columns:\n",
    "        Neighborhood, City, med_2011, med_2014\n",
    "    '''\n",
    "    df_state = df[df['State'] == state]\n",
    "    return df_state"
   ]
  },
  {
   "cell_type": "code",
   "execution_count": 385,
   "metadata": {
    "collapsed": true
   },
   "outputs": [],
   "source": [
    "def pandas_max_rent(df):\n",
    "    '''\n",
    "    INPUT: DataFrame\n",
    "    OUTPUT: DataFrame\n",
    "\n",
    "    Return a new pandas DataFrame which contains every city and the highest\n",
    "    median rent from that city for 2011 and 2014.\n",
    "\n",
    "    Note that city names are not unique and you need to use the state as well\n",
    "    so that Portland, ME and Portland, OR are recognized as different.\n",
    "\n",
    "    Your DataFrame should contain these columns:\n",
    "        City, State, med_2011, med_2014\n",
    "    '''\n",
    "    df['CityState'] = df.City + df.State\n",
    "    df_11 = df.drop(['Neighborhood','med_2014'],axis=1).sort(['med_2011'],ascending=False)\n",
    "    df_11_grp = df_11.groupby(['CityState']).first()\n",
    "    df_14 = df.drop(['Neighborhood','med_2011','City','State'],axis=1).sort(['med_2014'],ascending=False)\n",
    "    df_14_grp = df_14.groupby(['CityState']).first()\n",
    "    df_merged = df_11_grp.merge(df_14_grp, left_index=\"CityState\", right_index=\"CityState\")\n",
    "    df_merged.reset_index()\n",
    "    # df_merged.drop(['CityState'],axis=1)\n",
    "    return df_merged"
   ]
  },
  {
   "cell_type": "code",
   "execution_count": 386,
   "metadata": {
    "collapsed": false
   },
   "outputs": [],
   "source": [
    "# df = pd.read_csv('/Users/bfetters/projects/gU/DSCI6002/w2/6002-assessment-1_PRACTICE/data/rent.csv')\n",
    "# df['CityState'] = df.City + df.State\n",
    "# df_11 = df.drop(['Neighborhood','med_2014'],axis=1).sort(['med_2011'],ascending=False)\n",
    "# df_11_grp = df_11.groupby(['CityState']).first()\n",
    "# df_14 = df.drop(['Neighborhood','med_2011','City','State'],axis=1).sort(['med_2014'],ascending=False)\n",
    "# df_14_grp = df_14.groupby(['CityState']).first()\n",
    "# df_merged = df_11_grp.merge(df_14_grp, left_index=\"CityState\", right_index=\"CityState\")\n",
    "# df_merged.reset_index()\n",
    "# # df_merged.drop(['CityState'],axis=1)\n",
    "# df_merged.head()"
   ]
  },
  {
   "cell_type": "code",
   "execution_count": 387,
   "metadata": {
    "collapsed": false
   },
   "outputs": [
    {
     "data": {
      "text/html": [
       "<div style=\"max-height:1000px;max-width:1500px;overflow:auto;\">\n",
       "<table border=\"1\" class=\"dataframe\">\n",
       "  <thead>\n",
       "    <tr style=\"text-align: right;\">\n",
       "      <th></th>\n",
       "      <th>City</th>\n",
       "      <th>State</th>\n",
       "      <th>med_2011</th>\n",
       "      <th>med_2014</th>\n",
       "    </tr>\n",
       "    <tr>\n",
       "      <th>CityState</th>\n",
       "      <th></th>\n",
       "      <th></th>\n",
       "      <th></th>\n",
       "      <th></th>\n",
       "    </tr>\n",
       "  </thead>\n",
       "  <tbody>\n",
       "    <tr>\n",
       "      <th>AkronOH</th>\n",
       "      <td>Akron</td>\n",
       "      <td>OH</td>\n",
       "      <td>690</td>\n",
       "      <td>725</td>\n",
       "    </tr>\n",
       "    <tr>\n",
       "      <th>AlbanyNY</th>\n",
       "      <td>Albany</td>\n",
       "      <td>NY</td>\n",
       "      <td>NaN</td>\n",
       "      <td>952</td>\n",
       "    </tr>\n",
       "    <tr>\n",
       "      <th>AlbuquerqueNM</th>\n",
       "      <td>Albuquerque</td>\n",
       "      <td>NM</td>\n",
       "      <td>1099</td>\n",
       "      <td>1150</td>\n",
       "    </tr>\n",
       "    <tr>\n",
       "      <th>AlexandriaVA</th>\n",
       "      <td>Alexandria</td>\n",
       "      <td>VA</td>\n",
       "      <td>2155</td>\n",
       "      <td>2250</td>\n",
       "    </tr>\n",
       "    <tr>\n",
       "      <th>AmherstMA</th>\n",
       "      <td>Amherst</td>\n",
       "      <td>MA</td>\n",
       "      <td>NaN</td>\n",
       "      <td>NaN</td>\n",
       "    </tr>\n",
       "    <tr>\n",
       "      <th>AnaheimCA</th>\n",
       "      <td>Anaheim</td>\n",
       "      <td>CA</td>\n",
       "      <td>2005</td>\n",
       "      <td>2245</td>\n",
       "    </tr>\n",
       "    <tr>\n",
       "      <th>AnchorageAK</th>\n",
       "      <td>Anchorage</td>\n",
       "      <td>AK</td>\n",
       "      <td>NaN</td>\n",
       "      <td>1995</td>\n",
       "    </tr>\n",
       "    <tr>\n",
       "      <th>ArlingtonTX</th>\n",
       "      <td>Arlington</td>\n",
       "      <td>TX</td>\n",
       "      <td>1100</td>\n",
       "      <td>1300</td>\n",
       "    </tr>\n",
       "    <tr>\n",
       "      <th>ArlingtonVA</th>\n",
       "      <td>Arlington</td>\n",
       "      <td>VA</td>\n",
       "      <td>2800</td>\n",
       "      <td>2796</td>\n",
       "    </tr>\n",
       "    <tr>\n",
       "      <th>AtlantaGA</th>\n",
       "      <td>Atlanta</td>\n",
       "      <td>GA</td>\n",
       "      <td>2000</td>\n",
       "      <td>2450</td>\n",
       "    </tr>\n",
       "    <tr>\n",
       "      <th>AuburnWA</th>\n",
       "      <td>Auburn</td>\n",
       "      <td>WA</td>\n",
       "      <td>1045</td>\n",
       "      <td>1375</td>\n",
       "    </tr>\n",
       "    <tr>\n",
       "      <th>AugustaGA</th>\n",
       "      <td>Augusta</td>\n",
       "      <td>GA</td>\n",
       "      <td>826</td>\n",
       "      <td>955</td>\n",
       "    </tr>\n",
       "    <tr>\n",
       "      <th>AuroraCO</th>\n",
       "      <td>Aurora</td>\n",
       "      <td>CO</td>\n",
       "      <td>1350</td>\n",
       "      <td>1400</td>\n",
       "    </tr>\n",
       "    <tr>\n",
       "      <th>AustinTX</th>\n",
       "      <td>Austin</td>\n",
       "      <td>TX</td>\n",
       "      <td>1799</td>\n",
       "      <td>2800</td>\n",
       "    </tr>\n",
       "    <tr>\n",
       "      <th>BakersfieldCA</th>\n",
       "      <td>Bakersfield</td>\n",
       "      <td>CA</td>\n",
       "      <td>NaN</td>\n",
       "      <td>1550</td>\n",
       "    </tr>\n",
       "    <tr>\n",
       "      <th>BaltimoreMD</th>\n",
       "      <td>Baltimore</td>\n",
       "      <td>MD</td>\n",
       "      <td>2100</td>\n",
       "      <td>2210</td>\n",
       "    </tr>\n",
       "    <tr>\n",
       "      <th>BeavertonOR</th>\n",
       "      <td>Beaverton</td>\n",
       "      <td>OR</td>\n",
       "      <td>925</td>\n",
       "      <td>1167</td>\n",
       "    </tr>\n",
       "    <tr>\n",
       "      <th>BellevueWA</th>\n",
       "      <td>Bellevue</td>\n",
       "      <td>WA</td>\n",
       "      <td>2290</td>\n",
       "      <td>2550</td>\n",
       "    </tr>\n",
       "    <tr>\n",
       "      <th>BellinghamWA</th>\n",
       "      <td>Bellingham</td>\n",
       "      <td>WA</td>\n",
       "      <td>879</td>\n",
       "      <td>710</td>\n",
       "    </tr>\n",
       "    <tr>\n",
       "      <th>BendOR</th>\n",
       "      <td>Bend</td>\n",
       "      <td>OR</td>\n",
       "      <td>NaN</td>\n",
       "      <td>1200</td>\n",
       "    </tr>\n",
       "    <tr>\n",
       "      <th>BoiseID</th>\n",
       "      <td>Boise</td>\n",
       "      <td>ID</td>\n",
       "      <td>1200</td>\n",
       "      <td>975</td>\n",
       "    </tr>\n",
       "    <tr>\n",
       "      <th>BostonMA</th>\n",
       "      <td>Boston</td>\n",
       "      <td>MA</td>\n",
       "      <td>3050</td>\n",
       "      <td>3500</td>\n",
       "    </tr>\n",
       "    <tr>\n",
       "      <th>BoulderCO</th>\n",
       "      <td>Boulder</td>\n",
       "      <td>CO</td>\n",
       "      <td>2500</td>\n",
       "      <td>2490</td>\n",
       "    </tr>\n",
       "    <tr>\n",
       "      <th>BranfordCT</th>\n",
       "      <td>Branford</td>\n",
       "      <td>CT</td>\n",
       "      <td>1100</td>\n",
       "      <td>975</td>\n",
       "    </tr>\n",
       "    <tr>\n",
       "      <th>BuffaloNY</th>\n",
       "      <td>Buffalo</td>\n",
       "      <td>NY</td>\n",
       "      <td>625</td>\n",
       "      <td>1000</td>\n",
       "    </tr>\n",
       "    <tr>\n",
       "      <th>CambridgeMA</th>\n",
       "      <td>Cambridge</td>\n",
       "      <td>MA</td>\n",
       "      <td>2688</td>\n",
       "      <td>3000</td>\n",
       "    </tr>\n",
       "    <tr>\n",
       "      <th>ChandlerAZ</th>\n",
       "      <td>Chandler</td>\n",
       "      <td>AZ</td>\n",
       "      <td>1695</td>\n",
       "      <td>1900</td>\n",
       "    </tr>\n",
       "    <tr>\n",
       "      <th>CharlotteNC</th>\n",
       "      <td>Charlotte</td>\n",
       "      <td>NC</td>\n",
       "      <td>1500</td>\n",
       "      <td>1550</td>\n",
       "    </tr>\n",
       "    <tr>\n",
       "      <th>CharlottesvilleVA</th>\n",
       "      <td>Charlottesville</td>\n",
       "      <td>VA</td>\n",
       "      <td>875</td>\n",
       "      <td>1195</td>\n",
       "    </tr>\n",
       "    <tr>\n",
       "      <th>ChesapeakeVA</th>\n",
       "      <td>Chesapeake</td>\n",
       "      <td>VA</td>\n",
       "      <td>1400</td>\n",
       "      <td>1950</td>\n",
       "    </tr>\n",
       "    <tr>\n",
       "      <th>...</th>\n",
       "      <td>...</td>\n",
       "      <td>...</td>\n",
       "      <td>...</td>\n",
       "      <td>...</td>\n",
       "    </tr>\n",
       "    <tr>\n",
       "      <th>Satellite BeachFL</th>\n",
       "      <td>Satellite Beach</td>\n",
       "      <td>FL</td>\n",
       "      <td>975</td>\n",
       "      <td>1050</td>\n",
       "    </tr>\n",
       "    <tr>\n",
       "      <th>ScottsdaleAZ</th>\n",
       "      <td>Scottsdale</td>\n",
       "      <td>AZ</td>\n",
       "      <td>3000</td>\n",
       "      <td>3000</td>\n",
       "    </tr>\n",
       "    <tr>\n",
       "      <th>SeattleWA</th>\n",
       "      <td>Seattle</td>\n",
       "      <td>WA</td>\n",
       "      <td>2195</td>\n",
       "      <td>2450</td>\n",
       "    </tr>\n",
       "    <tr>\n",
       "      <th>ShreveportLA</th>\n",
       "      <td>Shreveport</td>\n",
       "      <td>LA</td>\n",
       "      <td>815</td>\n",
       "      <td>1050</td>\n",
       "    </tr>\n",
       "    <tr>\n",
       "      <th>South BendIN</th>\n",
       "      <td>South Bend</td>\n",
       "      <td>IN</td>\n",
       "      <td>NaN</td>\n",
       "      <td>650</td>\n",
       "    </tr>\n",
       "    <tr>\n",
       "      <th>SpartaNJ</th>\n",
       "      <td>Sparta</td>\n",
       "      <td>NJ</td>\n",
       "      <td>2200</td>\n",
       "      <td>2200</td>\n",
       "    </tr>\n",
       "    <tr>\n",
       "      <th>SpokaneWA</th>\n",
       "      <td>Spokane</td>\n",
       "      <td>WA</td>\n",
       "      <td>660</td>\n",
       "      <td>1400</td>\n",
       "    </tr>\n",
       "    <tr>\n",
       "      <th>SpringfieldMA</th>\n",
       "      <td>Springfield</td>\n",
       "      <td>MA</td>\n",
       "      <td>990</td>\n",
       "      <td>1100</td>\n",
       "    </tr>\n",
       "    <tr>\n",
       "      <th>StamfordCT</th>\n",
       "      <td>Stamford</td>\n",
       "      <td>CT</td>\n",
       "      <td>3900</td>\n",
       "      <td>4000</td>\n",
       "    </tr>\n",
       "    <tr>\n",
       "      <th>StocktonCA</th>\n",
       "      <td>Stockton</td>\n",
       "      <td>CA</td>\n",
       "      <td>1500</td>\n",
       "      <td>1500</td>\n",
       "    </tr>\n",
       "    <tr>\n",
       "      <th>SunnyvaleCA</th>\n",
       "      <td>Sunnyvale</td>\n",
       "      <td>CA</td>\n",
       "      <td>NaN</td>\n",
       "      <td>2750</td>\n",
       "    </tr>\n",
       "    <tr>\n",
       "      <th>SyracuseNY</th>\n",
       "      <td>Syracuse</td>\n",
       "      <td>NY</td>\n",
       "      <td>NaN</td>\n",
       "      <td>700</td>\n",
       "    </tr>\n",
       "    <tr>\n",
       "      <th>TacomaWA</th>\n",
       "      <td>Tacoma</td>\n",
       "      <td>WA</td>\n",
       "      <td>1195</td>\n",
       "      <td>1375</td>\n",
       "    </tr>\n",
       "    <tr>\n",
       "      <th>TampaFL</th>\n",
       "      <td>Tampa</td>\n",
       "      <td>FL</td>\n",
       "      <td>2029</td>\n",
       "      <td>2000</td>\n",
       "    </tr>\n",
       "    <tr>\n",
       "      <th>TempeAZ</th>\n",
       "      <td>Tempe</td>\n",
       "      <td>AZ</td>\n",
       "      <td>825</td>\n",
       "      <td>1195</td>\n",
       "    </tr>\n",
       "    <tr>\n",
       "      <th>ToledoOH</th>\n",
       "      <td>Toledo</td>\n",
       "      <td>OH</td>\n",
       "      <td>724</td>\n",
       "      <td>750</td>\n",
       "    </tr>\n",
       "    <tr>\n",
       "      <th>TorranceCA</th>\n",
       "      <td>Torrance</td>\n",
       "      <td>CA</td>\n",
       "      <td>1275</td>\n",
       "      <td>2695</td>\n",
       "    </tr>\n",
       "    <tr>\n",
       "      <th>Town of MadisonWI</th>\n",
       "      <td>Town of Madison</td>\n",
       "      <td>WI</td>\n",
       "      <td>1745</td>\n",
       "      <td>1645</td>\n",
       "    </tr>\n",
       "    <tr>\n",
       "      <th>TrentonNJ</th>\n",
       "      <td>Trenton</td>\n",
       "      <td>NJ</td>\n",
       "      <td>900</td>\n",
       "      <td>1062</td>\n",
       "    </tr>\n",
       "    <tr>\n",
       "      <th>TucsonAZ</th>\n",
       "      <td>Tucson</td>\n",
       "      <td>AZ</td>\n",
       "      <td>1050</td>\n",
       "      <td>1250</td>\n",
       "    </tr>\n",
       "    <tr>\n",
       "      <th>TulsaOK</th>\n",
       "      <td>Tulsa</td>\n",
       "      <td>OK</td>\n",
       "      <td>NaN</td>\n",
       "      <td>1850</td>\n",
       "    </tr>\n",
       "    <tr>\n",
       "      <th>VancouverWA</th>\n",
       "      <td>Vancouver</td>\n",
       "      <td>WA</td>\n",
       "      <td>720</td>\n",
       "      <td>1350</td>\n",
       "    </tr>\n",
       "    <tr>\n",
       "      <th>Virginia BeachVA</th>\n",
       "      <td>Virginia Beach</td>\n",
       "      <td>VA</td>\n",
       "      <td>1725</td>\n",
       "      <td>1975</td>\n",
       "    </tr>\n",
       "    <tr>\n",
       "      <th>WashingtonDC</th>\n",
       "      <td>Washington</td>\n",
       "      <td>DC</td>\n",
       "      <td>5000</td>\n",
       "      <td>3250</td>\n",
       "    </tr>\n",
       "    <tr>\n",
       "      <th>West Palm BeachFL</th>\n",
       "      <td>West Palm Beach</td>\n",
       "      <td>FL</td>\n",
       "      <td>4000</td>\n",
       "      <td>3000</td>\n",
       "    </tr>\n",
       "    <tr>\n",
       "      <th>Westhampton BeachNY</th>\n",
       "      <td>Westhampton Beach</td>\n",
       "      <td>NY</td>\n",
       "      <td>65000</td>\n",
       "      <td>53900</td>\n",
       "    </tr>\n",
       "    <tr>\n",
       "      <th>WeymouthMA</th>\n",
       "      <td>Weymouth</td>\n",
       "      <td>MA</td>\n",
       "      <td>1124</td>\n",
       "      <td>1415</td>\n",
       "    </tr>\n",
       "    <tr>\n",
       "      <th>WichitaKS</th>\n",
       "      <td>Wichita</td>\n",
       "      <td>KS</td>\n",
       "      <td>550</td>\n",
       "      <td>925</td>\n",
       "    </tr>\n",
       "    <tr>\n",
       "      <th>WynnewoodPA</th>\n",
       "      <td>Wynnewood</td>\n",
       "      <td>PA</td>\n",
       "      <td>NaN</td>\n",
       "      <td>NaN</td>\n",
       "    </tr>\n",
       "    <tr>\n",
       "      <th>YoungstownOH</th>\n",
       "      <td>Youngstown</td>\n",
       "      <td>OH</td>\n",
       "      <td>NaN</td>\n",
       "      <td>500</td>\n",
       "    </tr>\n",
       "  </tbody>\n",
       "</table>\n",
       "<p>177 rows × 4 columns</p>\n",
       "</div>"
      ],
      "text/plain": [
       "                                  City State  med_2011  med_2014\n",
       "CityState                                                       \n",
       "AkronOH                          Akron    OH       690       725\n",
       "AlbanyNY                        Albany    NY       NaN       952\n",
       "AlbuquerqueNM              Albuquerque    NM      1099      1150\n",
       "AlexandriaVA                Alexandria    VA      2155      2250\n",
       "AmherstMA                      Amherst    MA       NaN       NaN\n",
       "AnaheimCA                      Anaheim    CA      2005      2245\n",
       "AnchorageAK                  Anchorage    AK       NaN      1995\n",
       "ArlingtonTX                  Arlington    TX      1100      1300\n",
       "ArlingtonVA                  Arlington    VA      2800      2796\n",
       "AtlantaGA                      Atlanta    GA      2000      2450\n",
       "AuburnWA                        Auburn    WA      1045      1375\n",
       "AugustaGA                      Augusta    GA       826       955\n",
       "AuroraCO                        Aurora    CO      1350      1400\n",
       "AustinTX                        Austin    TX      1799      2800\n",
       "BakersfieldCA              Bakersfield    CA       NaN      1550\n",
       "BaltimoreMD                  Baltimore    MD      2100      2210\n",
       "BeavertonOR                  Beaverton    OR       925      1167\n",
       "BellevueWA                    Bellevue    WA      2290      2550\n",
       "BellinghamWA                Bellingham    WA       879       710\n",
       "BendOR                            Bend    OR       NaN      1200\n",
       "BoiseID                          Boise    ID      1200       975\n",
       "BostonMA                        Boston    MA      3050      3500\n",
       "BoulderCO                      Boulder    CO      2500      2490\n",
       "BranfordCT                    Branford    CT      1100       975\n",
       "BuffaloNY                      Buffalo    NY       625      1000\n",
       "CambridgeMA                  Cambridge    MA      2688      3000\n",
       "ChandlerAZ                    Chandler    AZ      1695      1900\n",
       "CharlotteNC                  Charlotte    NC      1500      1550\n",
       "CharlottesvilleVA      Charlottesville    VA       875      1195\n",
       "ChesapeakeVA                Chesapeake    VA      1400      1950\n",
       "...                                ...   ...       ...       ...\n",
       "Satellite BeachFL      Satellite Beach    FL       975      1050\n",
       "ScottsdaleAZ                Scottsdale    AZ      3000      3000\n",
       "SeattleWA                      Seattle    WA      2195      2450\n",
       "ShreveportLA                Shreveport    LA       815      1050\n",
       "South BendIN                South Bend    IN       NaN       650\n",
       "SpartaNJ                        Sparta    NJ      2200      2200\n",
       "SpokaneWA                      Spokane    WA       660      1400\n",
       "SpringfieldMA              Springfield    MA       990      1100\n",
       "StamfordCT                    Stamford    CT      3900      4000\n",
       "StocktonCA                    Stockton    CA      1500      1500\n",
       "SunnyvaleCA                  Sunnyvale    CA       NaN      2750\n",
       "SyracuseNY                    Syracuse    NY       NaN       700\n",
       "TacomaWA                        Tacoma    WA      1195      1375\n",
       "TampaFL                          Tampa    FL      2029      2000\n",
       "TempeAZ                          Tempe    AZ       825      1195\n",
       "ToledoOH                        Toledo    OH       724       750\n",
       "TorranceCA                    Torrance    CA      1275      2695\n",
       "Town of MadisonWI      Town of Madison    WI      1745      1645\n",
       "TrentonNJ                      Trenton    NJ       900      1062\n",
       "TucsonAZ                        Tucson    AZ      1050      1250\n",
       "TulsaOK                          Tulsa    OK       NaN      1850\n",
       "VancouverWA                  Vancouver    WA       720      1350\n",
       "Virginia BeachVA        Virginia Beach    VA      1725      1975\n",
       "WashingtonDC                Washington    DC      5000      3250\n",
       "West Palm BeachFL      West Palm Beach    FL      4000      3000\n",
       "Westhampton BeachNY  Westhampton Beach    NY     65000     53900\n",
       "WeymouthMA                    Weymouth    MA      1124      1415\n",
       "WichitaKS                      Wichita    KS       550       925\n",
       "WynnewoodPA                  Wynnewood    PA       NaN       NaN\n",
       "YoungstownOH                Youngstown    OH       NaN       500\n",
       "\n",
       "[177 rows x 4 columns]"
      ]
     },
     "execution_count": 387,
     "metadata": {},
     "output_type": "execute_result"
    }
   ],
   "source": [
    "pandas_max_rent(df)"
   ]
  },
  {
   "cell_type": "code",
   "execution_count": 388,
   "metadata": {
    "collapsed": true
   },
   "outputs": [],
   "source": [
    "# APIs\n",
    "def api_parse(url):\n",
    "    \"\"\"\n",
    "    INPUT: STR (URL)\n",
    "    OUTPUT: INTEGER (Number of links in Wikipedia article)\n",
    "    \n",
    "    Create a function that given a URL of a particular Wikipedia article,\n",
    "    returns the number of links in that article as seen by the API.\n",
    "    \"\"\"\n",
    "    \n",
    "    headers = {'user_agent': 'DataWrangling/1.1 (http://galvanize.it; class@galvanize.it)'}\n",
    "\n",
    "    # your code here\n",
    "    r = requests.get(url)\n",
    "    \n",
    "    return 0"
   ]
  },
  {
   "cell_type": "code",
   "execution_count": 404,
   "metadata": {
    "collapsed": false
   },
   "outputs": [
    {
     "data": {
      "text/plain": [
       "{u'pages': {u'15580374': {u'ns': 0,\n",
       "   u'pageid': 15580374,\n",
       "   u'revisions': [{u'*': u'<!--        BANNER ACROSS TOP OF PAGE        -->\\n{| id=\"mp-topbanner\" style=\"width:100%; background:#f9f9f9; margin:1.2em 0 6px 0; border:1px solid #ddd;\"\\n| style=\"width:61%; color:#000;\" |\\n<!--        \"WELCOME TO WIKIPEDIA\" AND ARTICLE COUNT        -->\\n{| style=\"width:280px; border:none; background:none;\"\\n| style=\"width:280px; text-align:center; white-space:nowrap; color:#000;\" |\\n<div style=\"font-size:162%; border:none; margin:0; padding:.1em; color:#000;\">Welcome to [[Wikipedia]],</div>\\n<div style=\"top:+0.2em; font-size:95%;\">the [[free content|free]] [[encyclopedia]] that [[Wikipedia:Introduction|anyone can edit]].</div>\\n<div id=\"articlecount\" style=\"font-size:85%;\">[[Special:Statistics|{{NUMBEROFARTICLES}}]] articles in [[English language|English]]</div>\\n|}\\n<!--        PORTAL LIST ON RIGHT-HAND SIDE        -->\\n| style=\"width:13%; font-size:95%;\" |\\n* [[Portal:Arts|Arts]]\\n* [[Portal:Biography|Biography]]\\n* [[Portal:Geography|Geography]]\\n| style=\"width:13%; font-size:95%;\" |\\n* [[Portal:History|History]]\\n* [[Portal:Mathematics|Mathematics]]\\n* [[Portal:Science|Science]]\\n| style=\"width:13%; font-size:95%;\" |\\n* [[Portal:Society|Society]]\\n* [[Portal:Technology|Technology]]\\n* \\'\\'\\'[[Portal:Contents/Portals|All portals]]\\'\\'\\'\\n|}\\n<!--        MAIN PAGE BANNER        -->\\n{{#if:{{Main Page banner}}|\\n<table id=\"mp-banner\" style=\"width: 100%; margin:4px 0 0 0; background:none; border-spacing: 0px;\">\\n<tr><td class=\"MainPageBG\" style=\"padding:2px 8px; background-color:#fffaf5; border:1px solid #f2e0ce; color:#000; font-size:100%;\">{{Main Page banner}}\\n</td></tr>\\n</table>\\n}}\\n<!--        TODAY\\'S FEATURED CONTENT        -->\\n{| id=\"mp-upper\" style=\"width: 100%; margin:4px 0 0 0; background:none; border-spacing: 0px;\"\\n<!--        TODAY\\'S FEATURED ARTICLE; DID YOU KNOW        -->\\n| class=\"MainPageBG\" style=\"width:55%; border:1px solid #cef2e0; background:#f5fffa; vertical-align:top; color:#000;\" |\\n{| id=\"mp-left\" style=\"width:100%; vertical-align:top; background:#f5fffa;\"\\n| style=\"padding:2px;\" | <h2 id=\"mp-tfa-h2\" style=\"margin:3px; background:#cef2e0; font-family:inherit; font-size:120%; font-weight:bold; border:1px solid #a3bfb1; text-align:left; color:#000; padding:0.2em 0.4em;\">{{#ifexpr:{{formatnum:{{PAGESIZE:Wikipedia:Today\\'s featured article/{{#time:F j, Y}}}}|R}}>150|From today\\'s featured article|Featured article <span style=\"font-size:85%; font-weight:normal;\">(Check back later for today\\'s.)</span>}}</h2>\\n|-\\n| style=\"color:#000;\" | <div id=\"mp-tfa\" style=\"padding:2px 5px\">{{#ifexpr:{{formatnum:{{PAGESIZE:Wikipedia:Today\\'s featured article/{{#time:F j, Y}}}}|R}}>150|{{Wikipedia:Today\\'s featured article/{{#time:F j, Y}}}}|{{Wikipedia:Today\\'s featured article/{{#time:F j, Y|-1 day}}}}}}</div>\\n|-\\n| style=\"padding:2px;\" | <h2 id=\"mp-dyk-h2\" style=\"margin:3px; background:#cef2e0; font-family:inherit; font-size:120%; font-weight:bold; border:1px solid #a3bfb1; text-align:left; color:#000; padding:0.2em 0.4em;\">Did you know...</h2>\\n|-\\n| style=\"color:#000; padding:2px 5px 5px;\" | <div id=\"mp-dyk\">{{Did you know}}</div>\\n|}\\n| style=\"border:1px solid transparent;\" |\\n<!--        IN THE NEWS; ON THIS DAY        -->\\n| class=\"MainPageBG\" style=\"width:45%; border:1px solid #cedff2; background:#f5faff; vertical-align:top;\"|\\n{| id=\"mp-right\" style=\"width:100%; vertical-align:top; background:#f5faff;\"\\n| style=\"padding:2px;\" | <h2 id=\"mp-itn-h2\" style=\"margin:3px; background:#cedff2; font-family:inherit; font-size:120%; font-weight:bold; border:1px solid #a3b0bf; text-align:left; color:#000; padding:0.2em 0.4em;\">In the news</h2>\\n|-\\n| style=\"color:#000; padding:2px 5px;\" | <div id=\"mp-itn\">{{In the news}}</div>\\n|-\\n| style=\"padding:2px;\" | <h2 id=\"mp-otd-h2\" style=\"margin:3px; background:#cedff2; font-family:inherit; font-size:120%; font-weight:bold; border:1px solid #a3b0bf; text-align:left; color:#000; padding:0.2em 0.4em;\">On this day...</h2>\\n|-\\n| style=\"color:#000; padding:2px 5px 5px;\" | <div id=\"mp-otd\">{{Wikipedia:Selected anniversaries/{{#time:F j}}}}</div>\\n|}\\n|}\\n<!--        TODAY\\'S FEATURED LIST        --><!-- CONDITIONAL SHOW -->{{#switch:{{CURRENTDAYNAME}}|Monday|Friday=\\n<table id=\"mp-middle\" style=\"width:100%; margin:4px 0 0 0; background:none; border-spacing: 0px;\">\\n<tr>\\n<td class=\"MainPageBG\" style=\"width:100%; border:1px solid #f2cedd; background:#fff5fa; vertical-align:top; color:#000;\">\\n<table id=\"mp-center\" style=\"width:100%; vertical-align:top; background:#fff5fa; color:#000;\">\\n<tr>\\n<td style=\"padding:2px;\"><h2 id=\"mp-tfl-h2\" style=\"margin:3px; background:#f2cedd; font-family:inherit; font-size:120%; font-weight:bold; border:1px solid #bfa3af; text-align:left; color:#000; padding:0.2em 0.4em\">From today\\'s featured list</h2></td>\\n</tr><tr>\\n<td style=\"color:#000;\"><div id=\"mp-tfl\" style=\"padding:2px 5px;\">{{#ifexist:Wikipedia:Today\\'s featured list/{{#time:F j, Y}}|{{Wikipedia:Today\\'s featured list/{{#time:F j, Y}}}}|{{TFLempty}}}}</div></td>\\n</tr>\\n</table>\\n</td>\\n</tr>\\n</table>|}}<!-- END CONDITIONAL SHOW -->\\n<!--        TODAY\\'S FEATURED PICTURE        -->\\n{| id=\"mp-lower\" style=\"margin:4px 0 0 0; width:100%; background:none; border-spacing: 0px;\"\\n| class=\"MainPageBG\" style=\"width:100%; border:1px solid #ddcef2; background:#faf5ff; vertical-align:top; color:#000;\" |\\n{| id=\"mp-bottom\" style=\"width:100%; vertical-align:top; background:#faf5ff; color:#000;\"\\n| style=\"padding:2px;\" | <h2 id=\"mp-tfp-h2\" style=\"margin:3px; background:#ddcef2; font-family:inherit; font-size:120%; font-weight:bold; border:1px solid #afa3bf; text-align:left; color:#000; padding:0.2em 0.4em\">{{#ifexist:Template:POTD protected/{{#time:Y-m-d}}|Today\\'s featured picture | Featured picture&ensp;<span style=\"font-size:85%; font-weight:normal;\">(Check back later for today\\'s.)</span>}}</h2>\\n|-\\n| style=\"color:#000; padding:2px;\" | <div id=\"mp-tfp\">{{#ifexist:Template:POTD protected/{{#time:Y-m-d}}|{{POTD protected/{{#time:Y-m-d}}}}|{{POTD protected/{{#time:Y-m-d|-1 day}}}}}}</div>\\n|}\\n|}\\n<!--        SECTIONS AT BOTTOM OF PAGE        -->\\n<div id=\"mp-other\" style=\"padding-top:4px; padding-bottom:2px;\">\\n== Other areas of Wikipedia ==\\n{{Other areas of Wikipedia}}\\n</div><div id=\"mp-sister\">\\n== Wikipedia\\'s sister projects ==\\n{{Wikipedia\\'s sister projects}}\\n</div><div id=\"mp-lang\">\\n== Wikipedia languages ==\\n{{Wikipedia languages}}\\n</div>\\n<!--        INTERWIKI STRAPLINE        -->\\n<noinclude>{{Main Page interwikis}}{{noexternallanglinks}}{{#if:{{Wikipedia:Main_Page/Tomorrow}}||}}</noinclude>__NOTOC____NOEDITSECTION__',\n",
       "     u'contentformat': u'text/x-wiki',\n",
       "     u'contentmodel': u'wikitext'}],\n",
       "   u'title': u'Main Page'}}}"
      ]
     },
     "execution_count": 404,
     "metadata": {},
     "output_type": "execute_result"
    }
   ],
   "source": [
    "r = requests.get('http://en.wikipedia.org/w/api.php?format=json&action=query&titles=Main%20Page&prop=revisions&rvprop=content')\n",
    "r_json = json.loads(r.content)\n",
    "r_json.get('query')"
   ]
  },
  {
   "cell_type": "code",
   "execution_count": 389,
   "metadata": {
    "collapsed": false
   },
   "outputs": [
    {
     "name": "stdout",
     "output_type": "stream",
     "text": [
      "<Response [200]>\n"
     ]
    },
    {
     "data": {
      "text/plain": [
       "0"
      ]
     },
     "execution_count": 389,
     "metadata": {},
     "output_type": "execute_result"
    }
   ],
   "source": [
    "api_parse('http://en.wikipedia.org/w/api.php?format=json&action=query&titles=Main%20Page&prop=revisions&rvprop=content')"
   ]
  },
  {
   "cell_type": "code",
   "execution_count": null,
   "metadata": {
    "collapsed": true
   },
   "outputs": [],
   "source": [
    "def pymongo_count(collection):\n",
    "    '''\n",
    "    INPUT: pymongo collection object\n",
    "    OUTPUT: INTEGER\n",
    "\n",
    "    return the number of mongoDB documents\n",
    "    that have EXACTLY than 1 'links'.\n",
    "    \n",
    "    example use to inspect the schema of one document:\n",
    "\n",
    "\n",
    "    collection.find_one({})\n",
    "    '''\n",
    "\n",
    "    return 0"
   ]
  },
  {
   "cell_type": "code",
   "execution_count": null,
   "metadata": {
    "collapsed": true
   },
   "outputs": [],
   "source": []
  }
 ],
 "metadata": {
  "kernelspec": {
   "display_name": "Python 2",
   "language": "python",
   "name": "python2"
  },
  "language_info": {
   "codemirror_mode": {
    "name": "ipython",
    "version": 2
   },
   "file_extension": ".py",
   "mimetype": "text/x-python",
   "name": "python",
   "nbconvert_exporter": "python",
   "pygments_lexer": "ipython2",
   "version": "2.7.9"
  }
 },
 "nbformat": 4,
 "nbformat_minor": 0
}
