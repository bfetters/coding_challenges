{
 "cells": [
  {
   "cell_type": "markdown",
   "metadata": {},
   "source": [
    "## Binary Search\n",
    "\n",
    "aka (Half-interval or Logirithmic search)\n",
    "\n",
    "Search algorithm that finds the position of a target value within a sorted array. It works by comparing the target value to the middle element of the array; if they are unequal, the lower or upper half of the array is eliminated depending on the result and the search is repeated in the remaining subarray until it is successful.\n",
    "\n",
    "Binary search runs in at worst logarithmic time, making ```O(log n)```  comparisons, where ```n``` is the number of elements in the array and ```log```  is the binary logarithm; and using only constant ```(O(1))``` space. Although specialized data structures designed for fast searching—such as hash tables—can be searched more efficiently, binary search applies to a wider range of search problems."
   ]
  },
  {
   "cell_type": "markdown",
   "metadata": {},
   "source": [
    "### Question"
   ]
  },
  {
   "cell_type": "code",
   "execution_count": 4,
   "metadata": {
    "collapsed": false
   },
   "outputs": [],
   "source": [
    "\"\"\"You're going to write a binary search function.\n",
    "You should use an iterative approach - meaning\n",
    "using loops.\n",
    "Your function should take two inputs:\n",
    "a Python list to search through, and the value\n",
    "you're searching for.\n",
    "Assume the list only has distinct elements,\n",
    "meaning there are no repeated values, and \n",
    "elements are in a strictly increasing order.\n",
    "Return the index of value, or -1 if the value\n",
    "doesn't exist in the list.\"\"\"\n",
    "\n",
    "def binary_search(input_array, value):\n",
    "    \"\"\"Your code goes here.\"\"\"\n",
    "    return -1"
   ]
  },
  {
   "cell_type": "markdown",
   "metadata": {},
   "source": [
    "### Answer"
   ]
  },
  {
   "cell_type": "code",
   "execution_count": 60,
   "metadata": {
    "collapsed": false
   },
   "outputs": [],
   "source": [
    "# Recursive... but does NOT provide an accurate index because the list is shorter and shorter\n",
    "def binary_search_r(input_array, value):\n",
    "    low = 0\n",
    "    high = len(input_array) - 1\n",
    "    middle = high // 2\n",
    "    \n",
    "    print input_array, low, middle, high\n",
    "    \n",
    "    if middle <= low:\n",
    "        return -1\n",
    "    elif input_array[middle] == value:\n",
    "        return middle\n",
    "    elif input_array[middle] > value:\n",
    "        return binary_search(input_array[:middle - 1], value)\n",
    "    elif input_array[middle] < value:\n",
    "        return binary_search(input_array[middle:], value)"
   ]
  },
  {
   "cell_type": "code",
   "execution_count": 77,
   "metadata": {
    "collapsed": false
   },
   "outputs": [],
   "source": [
    "def binary_search(input_array, value):\n",
    "    low = 0\n",
    "    high = len(input_array) - 1\n",
    "    \n",
    "    while low < high:\n",
    "        \n",
    "        middle = (low + high) // 2\n",
    "        \n",
    "#         print low, middle, high\n",
    "        \n",
    "        if input_array[middle] == value:\n",
    "            return middle\n",
    "        else:\n",
    "            if input_array[middle] < value:\n",
    "                low = middle + 1\n",
    "            elif input_array[middle] > value:\n",
    "                high = middle\n",
    "        \n",
    "    return -1"
   ]
  },
  {
   "cell_type": "markdown",
   "metadata": {},
   "source": [
    "### Testing"
   ]
  },
  {
   "cell_type": "code",
   "execution_count": 79,
   "metadata": {
    "collapsed": false
   },
   "outputs": [
    {
     "name": "stdout",
     "output_type": "stream",
     "text": [
      "-1\n",
      "4\n"
     ]
    }
   ],
   "source": [
    "test_list = [1,3,9,11,15,19,29]\n",
    "test_val1 = 25\n",
    "test_val2 = 15\n",
    "print binary_search(test_list, test_val1)\n",
    "print binary_search(test_list, test_val2)"
   ]
  },
  {
   "cell_type": "code",
   "execution_count": null,
   "metadata": {
    "collapsed": true
   },
   "outputs": [],
   "source": []
  },
  {
   "cell_type": "markdown",
   "metadata": {},
   "source": [
    "## Fibonacci Sequence\n",
    "\n",
    "The Fibonacci Sequence follows one rule: get the next number in the sequence by adding the two previous numbers. Here is an example of the sequence:\n",
    "0,1,1,2,3,5,8,13,21,34...\n",
    "\n",
    "Step through each value. You start with 0 and 1. 0 + 1 = 1, so you add 1 to the sequence. 1 + 1 = 2, so 2 is added. 1 + 2 = 3, so 3. 2 + 3 = 5, et cetera. "
   ]
  },
  {
   "cell_type": "markdown",
   "metadata": {},
   "source": [
    "### Question"
   ]
  },
  {
   "cell_type": "code",
   "execution_count": null,
   "metadata": {
    "collapsed": true
   },
   "outputs": [],
   "source": [
    "\"\"\"Implement a function recursivly to get the desired\n",
    "Fibonacci sequence value.\n",
    "Your code should have the same input/output as the \n",
    "iterative code in the instructions.\"\"\"\n",
    "\n",
    "def get_fibonacci(position):\n",
    "    return -1"
   ]
  },
  {
   "cell_type": "markdown",
   "metadata": {},
   "source": [
    "### Answer"
   ]
  },
  {
   "cell_type": "code",
   "execution_count": 109,
   "metadata": {
    "collapsed": true
   },
   "outputs": [],
   "source": [
    "# Iterative\n",
    "def get_fib_iter(position):\n",
    "    \n",
    "    if position == 0:\n",
    "        return position\n",
    "    \n",
    "    first, second = 0, 1\n",
    "    for n in range(position - 1):\n",
    "        first, second = second, first + second\n",
    "    return second"
   ]
  },
  {
   "cell_type": "code",
   "execution_count": 110,
   "metadata": {
    "collapsed": true
   },
   "outputs": [],
   "source": [
    "# Recursive\n",
    "def get_fib_recurse(position):\n",
    "    if position == 0 or position == 1:\n",
    "        return position\n",
    "    else:\n",
    "        return get_fib_recurse(position - 2) + get_fib_recurse(position - 1)"
   ]
  },
  {
   "cell_type": "markdown",
   "metadata": {},
   "source": [
    "### Testing"
   ]
  },
  {
   "cell_type": "code",
   "execution_count": 111,
   "metadata": {
    "collapsed": false
   },
   "outputs": [
    {
     "name": "stdout",
     "output_type": "stream",
     "text": [
      "34\n",
      "89\n",
      "0\n",
      "34\n",
      "89\n",
      "0\n"
     ]
    }
   ],
   "source": [
    "# Test cases\n",
    "print get_fib_iter(9)\n",
    "print get_fib_iter(11)\n",
    "print get_fib_iter(0)\n",
    "\n",
    "print get_fib_recurse(9)\n",
    "print get_fib_recurse(11)\n",
    "print get_fib_recurse(0)"
   ]
  },
  {
   "cell_type": "code",
   "execution_count": null,
   "metadata": {
    "collapsed": true
   },
   "outputs": [],
   "source": []
  }
 ],
 "metadata": {
  "kernelspec": {
   "display_name": "Python 2",
   "language": "python",
   "name": "python2"
  },
  "language_info": {
   "codemirror_mode": {
    "name": "ipython",
    "version": 2
   },
   "file_extension": ".py",
   "mimetype": "text/x-python",
   "name": "python",
   "nbconvert_exporter": "python",
   "pygments_lexer": "ipython2",
   "version": "2.7.10"
  }
 },
 "nbformat": 4,
 "nbformat_minor": 0
}
